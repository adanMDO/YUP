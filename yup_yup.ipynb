{
 "cells": [
  {
   "cell_type": "code",
   "execution_count": null,
<<<<<<< HEAD
   "id": "78003531",
=======
   "id": "ed3da9f4",
>>>>>>> 38f7501ef62ca3d81a46d90b87fb74a4cae3a5bf
   "metadata": {},
   "outputs": [],
   "source": []
  },
  {
   "cell_type": "markdown",
<<<<<<< HEAD
   "id": "9ba3790d",
=======
   "id": "470c8da9",
>>>>>>> 38f7501ef62ca3d81a46d90b87fb74a4cae3a5bf
   "metadata": {},
   "source": [
    "Practice yes sir makes perfect"
   ]
  },
  {
   "cell_type": "code",
<<<<<<< HEAD
   "execution_count": 2,
   "id": "4f772f4d",
=======
   "execution_count": 1,
   "id": "ff194c79",
>>>>>>> 38f7501ef62ca3d81a46d90b87fb74a4cae3a5bf
   "metadata": {},
   "outputs": [
    {
     "name": "stdout",
     "output_type": "stream",
     "text": [
<<<<<<< HEAD
      "no\n"
=======
      "yes\n"
>>>>>>> 38f7501ef62ca3d81a46d90b87fb74a4cae3a5bf
     ]
    }
   ],
   "source": [
<<<<<<< HEAD
    "print('no')"
=======
    "print('yes')"
>>>>>>> 38f7501ef62ca3d81a46d90b87fb74a4cae3a5bf
   ]
  },
  {
   "cell_type": "code",
   "execution_count": null,
<<<<<<< HEAD
   "id": "3aa741b7",
=======
   "id": "1bd7cf33",
>>>>>>> 38f7501ef62ca3d81a46d90b87fb74a4cae3a5bf
   "metadata": {},
   "outputs": [],
   "source": []
  }
 ],
 "metadata": {
  "kernelspec": {
   "display_name": "Python 3 (ipykernel)",
   "language": "python",
   "name": "python3"
  },
  "language_info": {
   "codemirror_mode": {
    "name": "ipython",
    "version": 3
   },
   "file_extension": ".py",
   "mimetype": "text/x-python",
   "name": "python",
   "nbconvert_exporter": "python",
   "pygments_lexer": "ipython3",
   "version": "3.9.13"
  }
 },
 "nbformat": 4,
 "nbformat_minor": 5
}
